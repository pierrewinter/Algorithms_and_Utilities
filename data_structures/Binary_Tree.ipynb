{
 "cells": [
  {
   "cell_type": "code",
   "execution_count": 1,
   "metadata": {
    "ExecuteTime": {
     "end_time": "2020-12-02T00:07:32.681913Z",
     "start_time": "2020-12-02T00:07:32.670911Z"
    }
   },
   "outputs": [],
   "source": [
    "from binarytree import Node"
   ]
  },
  {
   "cell_type": "code",
   "execution_count": 32,
   "metadata": {
    "ExecuteTime": {
     "end_time": "2020-12-02T00:34:38.812568Z",
     "start_time": "2020-12-02T00:34:38.804568Z"
    }
   },
   "outputs": [],
   "source": [
    "class BinaryTree:\n",
    "    def __init__(self, val):\n",
    "        self.val = val\n",
    "        self.root = Node(self.val)\n",
    "    \n",
    "    def insert(self, insert_val):\n",
    "        self._insert(insert_val, self.root)\n",
    "    \n",
    "    # Level-order\n",
    "    def _insert(self, insert_val, node):\n",
    "        if insert_val <= node.val:\n",
    "            if not node.left:\n",
    "                node.left = Node(insert_val)\n",
    "            else:\n",
    "                self._insert(insert_val, node.left)\n",
    "        \n",
    "        else:\n",
    "            if not node.right:\n",
    "                node.right = Node(insert_val)\n",
    "            else:\n",
    "                self._insert(insert_val, node.right)\n",
    "\n",
    "def build_tree(integer_array, tree_root):\n",
    "    for i in integer_array: #[5,4,3,2,4]\n",
    "        tree_root.insert(i)\n",
    "    return tree_root"
   ]
  },
  {
   "cell_type": "code",
   "execution_count": 42,
   "metadata": {
    "ExecuteTime": {
     "end_time": "2020-12-02T00:39:16.399213Z",
     "start_time": "2020-12-02T00:39:16.393186Z"
    }
   },
   "outputs": [
    {
     "name": "stdout",
     "output_type": "stream",
     "text": [
      "\n",
      "    __5__\n",
      "   /     \\\n",
      "  4       7\n",
      " / \\     / \\\n",
      "3   5   6   8\n",
      "\n"
     ]
    }
   ],
   "source": [
    "tree = BinaryTree(5)\n",
    "\n",
    "int_list = [4,7,3,5,6,8]\n",
    "# int_list = list(range(10))\n",
    "\n",
    "new_root = build_tree(int_list, tree)\n",
    "print(new_root.root)"
   ]
  },
  {
   "cell_type": "code",
   "execution_count": null,
   "metadata": {},
   "outputs": [],
   "source": []
  }
 ],
 "metadata": {
  "kernelspec": {
   "display_name": "Python 3",
   "language": "python",
   "name": "python3"
  },
  "language_info": {
   "codemirror_mode": {
    "name": "ipython",
    "version": 3
   },
   "file_extension": ".py",
   "mimetype": "text/x-python",
   "name": "python",
   "nbconvert_exporter": "python",
   "pygments_lexer": "ipython3",
   "version": "3.8.5"
  },
  "toc": {
   "base_numbering": 1,
   "nav_menu": {},
   "number_sections": true,
   "sideBar": true,
   "skip_h1_title": false,
   "title_cell": "Table of Contents",
   "title_sidebar": "Contents",
   "toc_cell": false,
   "toc_position": {},
   "toc_section_display": true,
   "toc_window_display": false
  }
 },
 "nbformat": 4,
 "nbformat_minor": 4
}
